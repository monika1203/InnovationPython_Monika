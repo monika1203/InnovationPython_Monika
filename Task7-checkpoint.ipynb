{
 "cells": [
  {
   "cell_type": "markdown",
   "metadata": {},
   "source": [
    "#### TASK SEVEN: CLASSES AND OBJECTS\n",
    "\n",
    "1. Write a program that calculates and prints the value according to the given\n",
    "formula:\n",
    "<br> Q= Square root of [(2*C*D)/H]\n",
    "<br>Following are the fixed values of C and H:\n",
    "<br>C is 50. H is 30.\n",
    "<br>D is the variable whose values should be input to your program in a comma-\n",
    "separated sequence."
   ]
  },
  {
   "cell_type": "code",
   "execution_count": 14,
   "metadata": {},
   "outputs": [
    {
     "name": "stdout",
     "output_type": "stream",
     "text": [
      "Enter the value of D:678\n",
      "48\n"
     ]
    }
   ],
   "source": [
    "import math \n",
    "C = 50\n",
    "H = 30\n",
    "\n",
    "def calculate(D):\n",
    "    return round(math.sqrt((2*C*D)/H))\n",
    "\n",
    "D = input(\"Enter the value of D:\").split(',')   \n",
    "D = [str (calculate(int(num))) for num in D ]\n",
    "print(\",\".join(D))\n",
    "    \n",
    "\n",
    "    "
   ]
  },
  {
   "cell_type": "markdown",
   "metadata": {},
   "source": [
    "2. Define a class named Shape and its subclass Square. The Square class has an\n",
    "init function which takes a length as argument. Both classes have an area function\n",
    "which can print the area of the shape where Shape’s area is 0 by default."
   ]
  },
  {
   "cell_type": "code",
   "execution_count": 31,
   "metadata": {},
   "outputs": [
    {
     "name": "stdout",
     "output_type": "stream",
     "text": [
      "Shape Area: 20\n",
      "Square Area: 400\n"
     ]
    }
   ],
   "source": [
    "class Shape():\n",
    "    def area(self, X = 0):\n",
    "        return X\n",
    "        \n",
    "    \n",
    "class Square(Shape):\n",
    "    def __init__ (self,length):\n",
    "        self.length = length\n",
    "        \n",
    "    \n",
    "    def area(self):\n",
    "        return (self.length * self.length)\n",
    "    \n",
    "a = Shape()\n",
    "print(\"Shape Area:\",a.area(20))\n",
    "b = Square(20)\n",
    "print(\"Square Area:\", b.area())"
   ]
  },
  {
   "cell_type": "markdown",
   "metadata": {},
   "source": [
    "3. Create a class to find the three elements that sum to zero from a set of n real\n",
    "numbers.\n",
    "\n",
    "<br>Input array: [-25,-10,-7,-3,2,4,8,10]\n",
    "<br>Output: [[-10,2,8],[-7,-3,10]]"
   ]
  },
  {
   "cell_type": "code",
   "execution_count": 48,
   "metadata": {},
   "outputs": [
    {
     "name": "stdout",
     "output_type": "stream",
     "text": [
      "2 -10 8\n",
      "-3 -7 10\n"
     ]
    }
   ],
   "source": [
    "class sum_zero():\n",
    "    def find(self, mylist):\n",
    "        self.mylist = mylist\n",
    "        for num1 in range (len(self.mylist)-1):\n",
    "            X = set()\n",
    "            for num2 in range(num1 + 1, len(self.mylist)):\n",
    "                Y = -(mylist[num1] + mylist[num2])\n",
    "                if Y in X:\n",
    "                    print(Y, mylist[num1], mylist[num2]) \n",
    "                else:\n",
    "                    X.add(mylist[num2])\n",
    "    \n",
    "                                                    \n",
    "a = sum_zero()\n",
    "a.find([-25,-10,-7,-3,2,4,8,10])\n",
    "            \n",
    "         "
   ]
  },
  {
   "cell_type": "code",
   "execution_count": 26,
   "metadata": {},
   "outputs": [
    {
     "name": "stdout",
     "output_type": "stream",
     "text": [
      "1 2\n"
     ]
    }
   ],
   "source": [
    "# Ques 4\n",
    "\n",
    "class A:\n",
    "    def __init__(self, x= 1):\n",
    "        self.x = x\n",
    "class der(A):\n",
    "    def __init__(self,y = 2):\n",
    "        super().__init__()\n",
    "        self.y = y\n",
    "def main():\n",
    "    obj = der()\n",
    "    print(obj.x, obj.y)\n",
    "    \n",
    "main()\n"
   ]
  },
  {
   "cell_type": "markdown",
   "metadata": {},
   "source": [
    "#### when main funtion is called, object of der class is created and object of class A is also printed "
   ]
  },
  {
   "cell_type": "code",
   "execution_count": 29,
   "metadata": {},
   "outputs": [
    {
     "name": "stdout",
     "output_type": "stream",
     "text": [
      "3 1\n"
     ]
    }
   ],
   "source": [
    "# Ques 4\n",
    "\n",
    "class A:\n",
    "    def __init__(self,x):\n",
    "        self.x = x\n",
    "    def count(self,x):\n",
    "        self.x = self.x+1\n",
    "class B(A):\n",
    "    def __init__(self, y=0):\n",
    "        A.__init__(self, 3)\n",
    "        self.y = y\n",
    "    def count(self):\n",
    "        self.y += 1     \n",
    "def main():\n",
    "    obj = B()\n",
    "    obj.count()\n",
    " \n",
    "    print(obj.x, obj.y)\n",
    "main()"
   ]
  },
  {
   "cell_type": "markdown",
   "metadata": {},
   "source": [
    "#### Invoking method is implemented correctly because Class B inherits the properties of class A, "
   ]
  },
  {
   "cell_type": "code",
   "execution_count": 28,
   "metadata": {},
   "outputs": [
    {
     "name": "stdout",
     "output_type": "stream",
     "text": [
      "30\n"
     ]
    }
   ],
   "source": [
    "# Ques 4\n",
    "class A:\n",
    "    def __init__(self):\n",
    "        self.multiply(15)\n",
    "        print(self.i)\n",
    " \n",
    "    def multiply(self, i):\n",
    "        self.i = 4 * i;\n",
    "class B(A):\n",
    "    def __init__(self):\n",
    "        super().__init__()\n",
    " \n",
    "    def multiply(self, i):\n",
    "        self.i = 2 * i;\n",
    "obj = B()"
   ]
  },
  {
   "cell_type": "markdown",
   "metadata": {},
   "source": [
    "#### Class B overrides parents Class A"
   ]
  },
  {
   "cell_type": "markdown",
   "metadata": {},
   "source": [
    "5. Create a Time class and initialize it with hours and minutes.\n",
    "Make a method addTime which should take two time object and add them. E.g.- (2\n",
    "hour and 50 min)+(1 hr and 20 min) is (4 hr and 10 min)\n",
    "Make a method displayTime which should print the time.\n",
    "Make a method DisplayMinute which should display the total minutes in the Time.\n",
    "E.g.- (1 hr 2 min) should display 62 minute."
   ]
  },
  {
   "cell_type": "code",
   "execution_count": 8,
   "metadata": {},
   "outputs": [
    {
     "name": "stdout",
     "output_type": "stream",
     "text": [
      "The Time is : 4 hours & 10 minutes.\n",
      "250\n"
     ]
    }
   ],
   "source": [
    "class Time():\n",
    "    def __init__(self, hours, mins):\n",
    "        self.hours = hours\n",
    "        self.mins = mins\n",
    "\n",
    "    def addTime(t1, t2):\n",
    "        t3 = Time(0,0)\n",
    "        if t1.mins+t2.mins > 60:\n",
    "            t3.hours = (t1.mins+t2.mins)//60\n",
    "            t3.hours = t3.hours+t1.hours+t2.hours\n",
    "            t3.mins = (t1.mins + t2.mins) % 60\n",
    "        return t3\n",
    "\n",
    "    def displayTime(self):\n",
    "        print (\"The Time is :\",self.hours,\"hours &\",self.mins,\"minutes.\")\n",
    "\n",
    "    def displayMinute(self):\n",
    "        print ((self.hours*60)+self.mins)\n",
    "\n",
    "x = Time(2,40)\n",
    "y = Time(1,30)\n",
    "z = Time.addTime(x,y)\n",
    "z.displayTime()\n",
    "z.displayMinute()"
   ]
  },
  {
   "cell_type": "markdown",
   "metadata": {},
   "source": [
    "6. Write a Person class with an instance variable, , and a constructor that takes an integer, , as a parameter. The constructor must assign to after confirming the argument passed as is not negative; if a negative argument is passed as , the constructor should set to and print Age is not valid, setting age to 0.. In addition, you must write the following instance methods:\n",
    "\n",
    "<br>1. yearPasses() should increase the instance variable by .\n",
    "<br>2. amIOld() should perform the following conditional actions:\n",
    "\n",
    "<br>○ If , print You are young..\n",
    "<br>○ If and , print You are a teenager..\n",
    "<br>○ Otherwise, print You are old.."
   ]
  },
  {
   "cell_type": "code",
   "execution_count": 22,
   "metadata": {},
   "outputs": [
    {
     "name": "stdout",
     "output_type": "stream",
     "text": [
      "Enter the age:7\n",
      "You are Young\n"
     ]
    }
   ],
   "source": [
    "class Person():\n",
    "    def __init__(self, age):\n",
    "        self.age = age\n",
    "        if self.age < 0:\n",
    "            self.age = 0\n",
    "            print (\"Age is not valid\")\n",
    "            \n",
    "        \n",
    "        self.yearPasses()\n",
    "        self.amIOld()\n",
    "            \n",
    "    def yearPasses(self):\n",
    "        self.age = self.age +1 \n",
    "        \n",
    "    def amIOld(self):\n",
    "        if self.age < 13:\n",
    "            print(\"You are Young\")\n",
    "        elif self.age >= 13 and self.age<18:\n",
    "            print(\"You are a teenager\")\n",
    "        else:\n",
    "            print(\"You are Old\")\n",
    "        \n",
    "Num = int(input(\"Enter the age:\"))\n",
    "a = Person(Num)"
   ]
  },
  {
   "cell_type": "code",
   "execution_count": null,
   "metadata": {},
   "outputs": [],
   "source": []
  }
 ],
 "metadata": {
  "kernelspec": {
   "display_name": "Python 3",
   "language": "python",
   "name": "python3"
  },
  "language_info": {
   "codemirror_mode": {
    "name": "ipython",
    "version": 3
   },
   "file_extension": ".py",
   "mimetype": "text/x-python",
   "name": "python",
   "nbconvert_exporter": "python",
   "pygments_lexer": "ipython3",
   "version": "3.8.3"
  }
 },
 "nbformat": 4,
 "nbformat_minor": 4
}
