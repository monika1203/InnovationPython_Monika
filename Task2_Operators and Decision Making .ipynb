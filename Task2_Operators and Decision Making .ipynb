{
 "cells": [
  {
   "cell_type": "markdown",
   "metadata": {},
   "source": [
    "### 1.\tWrite a program in Python to perform the following operation:\n",
    "●\tIf a number is divisible by 3 it should print “Consultadd” as a string\n",
    "<br> ●\tIf a number is divisible by 5 it should print “c” as a string\n",
    "<br> ●\tIf a number is divisible by both 3 and 5 it should print “Consultadd Python Training” as a string.\n"
   ]
  },
  {
   "cell_type": "code",
   "execution_count": 4,
   "metadata": {},
   "outputs": [
    {
     "name": "stdout",
     "output_type": "stream",
     "text": [
      "6\n",
      "Consultadd\n"
     ]
    }
   ],
   "source": [
    "a = int (input())\n",
    "if (a % 3 == 0) and (a % 5 == 0):\n",
    "    print(\"Consultadd Python Training\")\n",
    "elif a % 3 == 0:\n",
    "    print(\"Consultadd\")\n",
    "elif a % 5 == 0:\n",
    "    print(\"c\")"
   ]
  },
  {
   "cell_type": "markdown",
   "metadata": {},
   "source": [
    "### 2. Write a program in Python to perform the following operator based task:\n",
    "●\tAsk user to choose the following option first:\n",
    "<br> ○   If User Enter 1 - Addition \n",
    "<br> ○\tIf User Enter 2 - Subtraction\n",
    "<br> ○\tIf User Enter 3 - Division\n",
    "<br> ○\tIf User Enter 4 - Multiplication\n",
    "<br> ○\tIf User Enter 5 - Average\n",
    "<br> ●\tAsk user to enter the 2 numbers in a variable for first and second for the first 4 options mentioned above.\n",
    "<br> ●\tAsk user to enter two more numbers as first and second2 for calculating the average as soon as user choose an option 5.\n",
    "<br> ●\tAt the end if the answer of any operation is Negative print a statement saying “NEGATIVE”\n",
    "<br> ●\tNOTE: At a time user can perform one action at a time.\n"
   ]
  },
  {
   "cell_type": "code",
   "execution_count": 18,
   "metadata": {},
   "outputs": [
    {
     "name": "stdout",
     "output_type": "stream",
     "text": [
      "Enter the number between 1-5:1\n",
      "Enter the first number:-10\n",
      "Enter the second number3\n",
      "-7\n",
      "Negavtive \n"
     ]
    }
   ],
   "source": [
    "option = int(input(\"Enter the number between 1-5:\"))\n",
    "result = 0\n",
    "if option in range(1,5):\n",
    "    num1 = int (input(\"Enter the first number:\"))\n",
    "    num2 = int (input(\"Enter the second number\"))\n",
    "    if option == 1:\n",
    "        result = num1 + num2\n",
    "        print(result)\n",
    "    elif option == 2:\n",
    "        result = num1 - num2\n",
    "        print(result)\n",
    "    elif option == 3:\n",
    "        result = num1 / num2\n",
    "        print(result)\n",
    "    elif option == 4:\n",
    "        result = num1 * num2\n",
    "        print(result)\n",
    "    if (result < 0):\n",
    "        print(\"Negavtive \")\n",
    "        \n",
    "elif option == 5:\n",
    "    num1 = int (input(\"Enter the first number:\"))\n",
    "    num2 = int (input(\"Enter the second number\"))\n",
    "    num3 = int (input(\"Enter the third number:\"))\n",
    "    num4 = int (input(\"Enter the fourth number\"))\n",
    "    result = (num1 + num2 + num3 + num4) /4\n",
    "    print(result)\n",
    "    \n",
    "    if (result < 0):\n",
    "        print(\"Negavtive \")\n",
    "    "
   ]
  },
  {
   "cell_type": "markdown",
   "metadata": {},
   "source": [
    "### 3. Write a program in Python to implement the given flowchart:"
   ]
  },
  {
   "cell_type": "code",
   "execution_count": 2,
   "metadata": {},
   "outputs": [
    {
     "data": {
      "text/plain": [
       "[4, 2]"
      ]
     },
     "execution_count": 2,
     "metadata": {},
     "output_type": "execute_result"
    }
   ],
   "source": [
    "a= 10\n",
    "b "
   ]
  },
  {
   "cell_type": "markdown",
   "metadata": {},
   "source": [
    "### 4. \tWrite a program in Python to break and continue if the following cases occurs:\n",
    "●\tIf user enters a negative number just break the loop and print “It’s Over”\n",
    "<br> ●\tIf user enters a positive number just continue in the loop and print “Good Going”\n"
   ]
  },
  {
   "cell_type": "code",
   "execution_count": null,
   "metadata": {},
   "outputs": [],
   "source": []
  },
  {
   "cell_type": "markdown",
   "metadata": {},
   "source": [
    "### 5.   Write a program in Python which will find all such numbers which are divisible  by 7 but are not a multiple of 5, between 2000 and 3200."
   ]
  },
  {
   "cell_type": "code",
   "execution_count": null,
   "metadata": {},
   "outputs": [],
   "source": []
  },
  {
   "cell_type": "markdown",
   "metadata": {},
   "source": [
    "### 6. What is the output of the following code examples?\n",
    "\n"
   ]
  },
  {
   "cell_type": "code",
   "execution_count": null,
   "metadata": {},
   "outputs": [],
   "source": []
  },
  {
   "cell_type": "markdown",
   "metadata": {},
   "source": [
    "### 7. Write a program that prints all the numbers from 0 to 6 except 3 and 6.\n",
    "       Expected output: 0 1 2 4 5\n",
    "Note: Use ‘continue’ statement\n"
   ]
  },
  {
   "cell_type": "code",
   "execution_count": null,
   "metadata": {},
   "outputs": [],
   "source": []
  },
  {
   "cell_type": "markdown",
   "metadata": {},
   "source": [
    "### 8.  Write a program that accepts a string as an input from user and calculate the number of digits and letters.\n",
    "     Expected output: consul12\n",
    "     Letters 6\n",
    "     Digits 2\n"
   ]
  },
  {
   "cell_type": "code",
   "execution_count": null,
   "metadata": {},
   "outputs": [],
   "source": []
  },
  {
   "cell_type": "markdown",
   "metadata": {},
   "source": [
    "### 9. Read the two parts of the question below: \n",
    "●\t Write a program such that it asks users to “guess the lucky number”. If the correct number is guessed the program stops, otherwise it continues forever. \n",
    "<br> ●\tModify the program so that it asks users whether they want to guess again each time. Use two variables, ‘number’ for the number and ‘answer’ for the answer to the question whether they want to continue guessing. The program stops if the user guesses the correct number or answers “no”. ( The program continues as long as a user has not answered “no” and has not guessed the correct number)\n"
   ]
  },
  {
   "cell_type": "code",
   "execution_count": null,
   "metadata": {},
   "outputs": [],
   "source": []
  },
  {
   "cell_type": "markdown",
   "metadata": {},
   "source": [
    "### 10. Write a program that asks five times to guess the lucky number. Use a while loop and a counter, such as\n",
    "           \t\tcounter=1\n",
    "\t\tWhile counter <= 5:\n",
    "\t\t\tprint(“Type in the”, counter, “number”\n",
    "\t\t\tcounter=counter+1\n",
    "The program asks for five guesses (no matter whether the correct number was guessed or not). If the correct number is guessed, the program outputs “Good guess!”, otherwise it outputs “Try again!”. After the fifth guess it stops and prints “Game over!”.\n"
   ]
  },
  {
   "cell_type": "code",
   "execution_count": null,
   "metadata": {},
   "outputs": [],
   "source": []
  },
  {
   "cell_type": "markdown",
   "metadata": {},
   "source": [
    "### 11. In the previous question, insert “break” after the “Good guess!” print statement. “break” will terminate the while loop so that users do not have to continue guessing after they found the number. If the user does not guess the number at all, print “Sorry but that was not very successful”."
   ]
  },
  {
   "cell_type": "code",
   "execution_count": null,
   "metadata": {},
   "outputs": [],
   "source": []
  }
 ],
 "metadata": {
  "kernelspec": {
   "display_name": "Python 3",
   "language": "python",
   "name": "python3"
  },
  "language_info": {
   "codemirror_mode": {
    "name": "ipython",
    "version": 3
   },
   "file_extension": ".py",
   "mimetype": "text/x-python",
   "name": "python",
   "nbconvert_exporter": "python",
   "pygments_lexer": "ipython3",
   "version": "3.7.3"
  }
 },
 "nbformat": 4,
 "nbformat_minor": 2
}
