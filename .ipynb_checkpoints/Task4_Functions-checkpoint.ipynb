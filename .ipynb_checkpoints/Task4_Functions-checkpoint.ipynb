{
 "cells": [
  {
   "cell_type": "markdown",
   "metadata": {},
   "source": [
    "### 1. Write a program to reverse a string.\n",
    "Sample data: “1234abcd”\n",
    "<br>Expected Output: “dcba4321”"
   ]
  },
  {
   "cell_type": "code",
   "execution_count": 3,
   "metadata": {},
   "outputs": [
    {
     "name": "stdout",
     "output_type": "stream",
     "text": [
      "dcba4321\n"
     ]
    }
   ],
   "source": [
    "def reverse(X):\n",
    "    mystr = ''\n",
    "    length = len(X)\n",
    "    while length > 0:\n",
    "        mystr = mystr + X[length-1]\n",
    "        length = length - 1\n",
    "    return mystr\n",
    "\n",
    "print(reverse(\"1234abcd\"))\n",
    "        "
   ]
  },
  {
   "cell_type": "markdown",
   "metadata": {},
   "source": [
    "### 2. Write a function that accepts a string and calculate the number of uppercase letters and lowercase letters.\n",
    "<br> Expected Output:\n",
    "<br> No. of Upper case characters : 3\n",
    "<br> No. of Lower case Characters : 12"
   ]
  },
  {
   "cell_type": "code",
   "execution_count": 7,
   "metadata": {},
   "outputs": [
    {
     "name": "stdout",
     "output_type": "stream",
     "text": [
      "('No. of upper case characters:', 3, 'No. of lower case charaters:', 8)\n"
     ]
    }
   ],
   "source": [
    "def cal_letter(X):\n",
    "    upper_letter = 0\n",
    "    lower_letter = 0\n",
    "    for a in X:\n",
    "        if a.isupper():\n",
    "            upper_letter = upper_letter + 1\n",
    "        elif a.islower():\n",
    "            lower_letter = lower_letter + 1\n",
    "    return('No. of upper case characters:', upper_letter,\n",
    "           'No. of lower case charaters:', lower_letter)\n",
    "\n",
    "print(cal_letter(\"consultaADD\"))\n",
    "    "
   ]
  },
  {
   "cell_type": "markdown",
   "metadata": {},
   "source": [
    "### 3. Create a function that takes a list and returns a new list with unique elements of the first list."
   ]
  },
  {
   "cell_type": "code",
   "execution_count": 10,
   "metadata": {},
   "outputs": [
    {
     "name": "stdout",
     "output_type": "stream",
     "text": [
      "[1, 2, 3, 4, 5, 6, 7]\n"
     ]
    }
   ],
   "source": [
    "def unique_elm(X):\n",
    "    new_list = []\n",
    "    for i in X:\n",
    "        if i not in new_list:\n",
    "            new_list.append(i)\n",
    "        else:\n",
    "            continue\n",
    "    return(new_list)\n",
    "\n",
    "print(unique_elm([1,2,3,4,5,2,3,4,5,6,7,7]))"
   ]
  },
  {
   "cell_type": "markdown",
   "metadata": {},
   "source": [
    "### 4. Write a program that accepts a hyphen-separated sequence of words as input and prints the words in a hyphen-separated sequence after sorting them alphabetically."
   ]
  },
  {
   "cell_type": "code",
   "execution_count": 29,
   "metadata": {},
   "outputs": [
    {
     "name": "stdout",
     "output_type": "stream",
     "text": [
      "Enter the hyphen-separated sequence of words:I-am-doing-python-training-from-consultADD\n",
      "I-am-consultADD-doing-from-python-training\n"
     ]
    }
   ],
   "source": [
    "def separate_seq():\n",
    "    words = input(\"Enter the hyphen-separated sequence of words:\")\n",
    "    mylist = []\n",
    "    mylist = words.split(\"-\")\n",
    "    mylist.sort()\n",
    "    return('-'.join(mylist))\n",
    "\n",
    "print(separate_seq())\n",
    "       "
   ]
  },
  {
   "cell_type": "markdown",
   "metadata": {},
   "source": [
    "### 5. Write a program that accepts a sequence of lines as input and prints the lines after making all characters in the sentence capitalized.\n",
    "Sample input:\n",
    "<br>Hello world\n",
    "<br>Practice makes perfect\n",
    "<br>Expected Output:\n",
    "<br>HELLO WORLD\n",
    "<br>PRACTICE MAKES PERFECT"
   ]
  },
  {
   "cell_type": "code",
   "execution_count": 46,
   "metadata": {},
   "outputs": [
    {
     "name": "stdout",
     "output_type": "stream",
     "text": [
      "Enter the input line:Hello World\n",
      "Enter the input line:Practice makes perfect \n",
      "Enter the input line:this is happy place \n",
      "Enter the input line:python training \n",
      "HELLO WORLD\n",
      "PRACTICE MAKES PERFECT \n",
      "THIS IS HAPPY PLACE \n",
      "PYTHON TRAINING \n"
     ]
    }
   ],
   "source": [
    "def capitalized():\n",
    "    mylist = []\n",
    "    a = 4\n",
    "    while a != 0:\n",
    "        x = input(\"Enter the input line:\")\n",
    "        a = a-1 \n",
    "        if x:\n",
    "            mylist.append(x.upper())\n",
    "        else:\n",
    "            break\n",
    "    for line in mylist:\n",
    "        print(line)\n",
    "\n",
    "capitalized()\n",
    "            \n",
    "        \n",
    "    "
   ]
  },
  {
   "cell_type": "markdown",
   "metadata": {},
   "source": [
    "### 6. Define a function that can receive two integral numbers in string form and compute their sum and print it in console."
   ]
  },
  {
   "cell_type": "code",
   "execution_count": 1,
   "metadata": {},
   "outputs": [
    {
     "name": "stdout",
     "output_type": "stream",
     "text": [
      "50\n"
     ]
    }
   ],
   "source": [
    "def addnum(x,y):\n",
    "    addition = int(x) + int(y)\n",
    "    return addition\n",
    "\n",
    "a = \"100\"\n",
    "b = \"-50\"\n",
    "print(addnum(a,b))"
   ]
  },
  {
   "cell_type": "markdown",
   "metadata": {},
   "source": [
    "### 7. Define a function that can accept two strings as input and print the string with maximum length in console. If two strings have the same length, then the function should print all strings line by line."
   ]
  },
  {
   "cell_type": "code",
   "execution_count": 13,
   "metadata": {},
   "outputs": [
    {
     "name": "stdout",
     "output_type": "stream",
     "text": [
      "Enter the first string:hello World\n",
      "Enter the second stringHi all\n",
      "hello World\n"
     ]
    }
   ],
   "source": [
    "def max_len(x,y):\n",
    "    len1 = len(x)\n",
    "    len2 = len(y)\n",
    "    if len1 > len2:\n",
    "        return(x)\n",
    "    elif len1 == len2:\n",
    "        return (x,y)\n",
    "    else:\n",
    "        return(y)\n",
    "\n",
    "a = input(\"Enter the first string:\")\n",
    "b = input(\"Enter the second string\")\n",
    "print(max_len(a,b))\n",
    "        \n",
    "    "
   ]
  },
  {
   "cell_type": "markdown",
   "metadata": {},
   "source": [
    "### 8. Define a function which can generate and print a tuple where the value are square of numbers between 1 and 20."
   ]
  },
  {
   "cell_type": "code",
   "execution_count": 14,
   "metadata": {},
   "outputs": [
    {
     "name": "stdout",
     "output_type": "stream",
     "text": [
      "(1, 4, 9, 16, 25, 36, 49, 64, 81, 100, 121, 144, 169, 196, 225, 256, 289, 324, 361, 400)\n"
     ]
    }
   ],
   "source": [
    "def squr():\n",
    "    X = []\n",
    "    for i in range(1,21):\n",
    "        X.append(i**2)\n",
    "    mytuple = tuple(X)\n",
    "    return mytuple\n",
    "\n",
    "print(squr())\n",
    "        \n",
    "        "
   ]
  },
  {
   "cell_type": "markdown",
   "metadata": {},
   "source": [
    "### 9. Write a function called showNumbers that takes a parameter called limit. It should print all the numbers between 0 and limit with a label to identify the even and odd numbers.\n",
    "<br>Example: If the limit is 3 , it should print:\n",
    "<br> 0 EVEN\n",
    "<br> 1 ODD\n",
    "<br> 2 EVEN\n",
    "<br> 3 ODD"
   ]
  },
  {
   "cell_type": "code",
   "execution_count": 20,
   "metadata": {},
   "outputs": [
    {
     "name": "stdout",
     "output_type": "stream",
     "text": [
      "0 EVEN\n",
      "1 ODD\n",
      "2 EVEN\n",
      "3 ODD\n",
      "4 EVEN\n",
      "5 ODD\n",
      "6 EVEN\n"
     ]
    }
   ],
   "source": [
    "def showNumbers(limit):\n",
    "    for i in range(limit+1):\n",
    "        if i % 2==0:\n",
    "            print(i, 'EVEN')\n",
    "        else:\n",
    "            print(i, 'ODD')\n",
    "\n",
    "showNumbers(6)\n",
    "            \n",
    "    "
   ]
  },
  {
   "cell_type": "markdown",
   "metadata": {},
   "source": [
    "### 10. Write a program which can filter() to make a list whose elements are even number between 1 and 20 ( both included)"
   ]
  },
  {
   "cell_type": "code",
   "execution_count": 30,
   "metadata": {},
   "outputs": [
    {
     "name": "stdout",
     "output_type": "stream",
     "text": [
      "[0, 2, 4, 6, 8, 10, 12, 14, 16, 18, 20]\n"
     ]
    }
   ],
   "source": [
    "def fliter_even():\n",
    "    mylist = list(filter((lambda a: a%2 == 0), range(0,21)))\n",
    "    print(mylist)\n",
    "\n",
    "fliter_even()\n",
    "    \n",
    "    "
   ]
  },
  {
   "cell_type": "markdown",
   "metadata": {},
   "source": [
    "### 11. Write a program which can map() and filter() to make a list whose elements are square of even number in [1,2,3,4,5,6,7,8,9,10]\n",
    "<br> Hints: Use map() to generate a list.\n",
    "<br> Use filter() to filter elements of a list\n",
    "<br> Use lambda to define anonymous functions"
   ]
  },
  {
   "cell_type": "code",
   "execution_count": 32,
   "metadata": {},
   "outputs": [
    {
     "name": "stdout",
     "output_type": "stream",
     "text": [
      "[4, 16, 36, 64, 100]\n"
     ]
    }
   ],
   "source": [
    "def fliter_sqeven(X):\n",
    "    mylist = list(map(lambda X:X **2,(filter(lambda y: y%2 == 0, X))))\n",
    "    print(mylist)\n",
    "                  \n",
    "                  \n",
    "a = [1,2,3,4,5,6,7,8,9,10]\n",
    "fliter_sqeven(a)"
   ]
  },
  {
   "cell_type": "markdown",
   "metadata": {},
   "source": [
    "### 12. Write a function to compute 5/0 and use try/except to catch the exceptions"
   ]
  },
  {
   "cell_type": "code",
   "execution_count": 33,
   "metadata": {},
   "outputs": [
    {
     "name": "stdout",
     "output_type": "stream",
     "text": [
      "Number cannot divide by zero\n"
     ]
    }
   ],
   "source": [
    "def errorhandling():\n",
    "    try:\n",
    "        res = 5 /0\n",
    "    except:\n",
    "        print(\"Number cannot divide by zero\")\n",
    "        \n",
    "errorhandling()"
   ]
  },
  {
   "cell_type": "markdown",
   "metadata": {},
   "source": [
    "### 13. Flatten the list [[1,2,3],[4,5],[6,7,8]] into [1,2,3,4,5,6,7,8] using reduce\n",
    "Goal : Turn [1,2,3,4,5,6,7] to 1234567"
   ]
  },
  {
   "cell_type": "code",
   "execution_count": 35,
   "metadata": {},
   "outputs": [
    {
     "name": "stdout",
     "output_type": "stream",
     "text": [
      "[1, 2, 3, 4, 5, 6, 7, 8]\n"
     ]
    }
   ],
   "source": [
    "from functools import reduce\n",
    "\n",
    "mylist = [[1,2,3],[4,5],[6,7,8]]\n",
    "print(list(reduce(lambda a, b:a+b, mylist)))"
   ]
  },
  {
   "cell_type": "code",
   "execution_count": 51,
   "metadata": {},
   "outputs": [
    {
     "name": "stdout",
     "output_type": "stream",
     "text": [
      "2\n"
     ]
    }
   ],
   "source": [
    "### 14. What is the output of the following codes:\n",
    "\n",
    "## 1)\n",
    "def foo():\n",
    "    try:\n",
    "        return 1\n",
    "    finally:\n",
    "        return 2\n",
    "k = foo()\n",
    "print(k)"
   ]
  },
  {
   "cell_type": "code",
   "execution_count": 36,
   "metadata": {},
   "outputs": [
    {
     "name": "stdout",
     "output_type": "stream",
     "text": [
      "after f\n"
     ]
    },
    {
     "ename": "NameError",
     "evalue": "name 'f' is not defined",
     "output_type": "error",
     "traceback": [
      "\u001b[1;31m---------------------------------------------------------------------------\u001b[0m",
      "\u001b[1;31mNameError\u001b[0m                                 Traceback (most recent call last)",
      "\u001b[1;32m<ipython-input-36-9972ee381598>\u001b[0m in \u001b[0;36m<module>\u001b[1;34m\u001b[0m\n\u001b[0;32m      5\u001b[0m         \u001b[0mprint\u001b[0m\u001b[1;33m(\u001b[0m\u001b[1;34m\"after f\"\u001b[0m\u001b[1;33m)\u001b[0m\u001b[1;33m\u001b[0m\u001b[1;33m\u001b[0m\u001b[0m\n\u001b[0;32m      6\u001b[0m     \u001b[0mprint\u001b[0m\u001b[1;33m(\u001b[0m\u001b[1;34m\"after f?\"\u001b[0m\u001b[1;33m)\u001b[0m\u001b[1;33m\u001b[0m\u001b[1;33m\u001b[0m\u001b[0m\n\u001b[1;32m----> 7\u001b[1;33m \u001b[0ma\u001b[0m\u001b[1;33m(\u001b[0m\u001b[1;33m)\u001b[0m\u001b[1;33m\u001b[0m\u001b[1;33m\u001b[0m\u001b[0m\n\u001b[0m",
      "\u001b[1;32m<ipython-input-36-9972ee381598>\u001b[0m in \u001b[0;36ma\u001b[1;34m()\u001b[0m\n\u001b[0;32m      1\u001b[0m \u001b[1;32mdef\u001b[0m \u001b[0ma\u001b[0m\u001b[1;33m(\u001b[0m\u001b[1;33m)\u001b[0m\u001b[1;33m:\u001b[0m\u001b[1;33m\u001b[0m\u001b[1;33m\u001b[0m\u001b[0m\n\u001b[0;32m      2\u001b[0m     \u001b[1;32mtry\u001b[0m\u001b[1;33m:\u001b[0m\u001b[1;33m\u001b[0m\u001b[1;33m\u001b[0m\u001b[0m\n\u001b[1;32m----> 3\u001b[1;33m         \u001b[0mf\u001b[0m\u001b[1;33m(\u001b[0m\u001b[0mx\u001b[0m\u001b[1;33m,\u001b[0m \u001b[1;36m4\u001b[0m\u001b[1;33m)\u001b[0m\u001b[1;33m\u001b[0m\u001b[1;33m\u001b[0m\u001b[0m\n\u001b[0m\u001b[0;32m      4\u001b[0m     \u001b[1;32mfinally\u001b[0m\u001b[1;33m:\u001b[0m\u001b[1;33m\u001b[0m\u001b[1;33m\u001b[0m\u001b[0m\n\u001b[0;32m      5\u001b[0m         \u001b[0mprint\u001b[0m\u001b[1;33m(\u001b[0m\u001b[1;34m\"after f\"\u001b[0m\u001b[1;33m)\u001b[0m\u001b[1;33m\u001b[0m\u001b[1;33m\u001b[0m\u001b[0m\n",
      "\u001b[1;31mNameError\u001b[0m: name 'f' is not defined"
     ]
    }
   ],
   "source": [
    "## 2)\n",
    "def a():\n",
    "    try:\n",
    "        f(x, 4)\n",
    "    finally:\n",
    "        print(\"after f\")\n",
    "    print(\"after f?\")\n",
    "a()"
   ]
  },
  {
   "cell_type": "markdown",
   "metadata": {},
   "source": [
    "### In question 14 \n",
    "<br> 1) the output is 2 . \n",
    "<br> 2) the output is 'after f' ---> this is first print statement in finally block and then the output name 'f' is not defined becuase that function f is not defined."
   ]
  }
 ],
 "metadata": {
  "kernelspec": {
   "display_name": "Python 3",
   "language": "python",
   "name": "python3"
  },
  "language_info": {
   "codemirror_mode": {
    "name": "ipython",
    "version": 3
   },
   "file_extension": ".py",
   "mimetype": "text/x-python",
   "name": "python",
   "nbconvert_exporter": "python",
   "pygments_lexer": "ipython3",
   "version": "3.8.3"
  }
 },
 "nbformat": 4,
 "nbformat_minor": 4
}
