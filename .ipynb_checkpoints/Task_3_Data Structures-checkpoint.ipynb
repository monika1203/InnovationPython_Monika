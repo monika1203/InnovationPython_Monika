{
 "cells": [
  {
   "cell_type": "markdown",
   "metadata": {},
   "source": [
    "### 1. Create a list of the 10 elements of four different types of Data Type like int, string, complex and float."
   ]
  },
  {
   "cell_type": "code",
   "execution_count": 1,
   "metadata": {},
   "outputs": [
    {
     "name": "stdout",
     "output_type": "stream",
     "text": [
      "[1, 2, 3, 'Hello', 'Monika', 12.98, 14.6, (5+7j), (9+3j), 5]\n"
     ]
    }
   ],
   "source": [
    "mylist = [1,2,3,\"Hello\",\"Monika\",12.98, 14.6, 5+7j, 9+3j, 5]\n",
    "print(mylist)"
   ]
  },
  {
   "cell_type": "markdown",
   "metadata": {},
   "source": [
    "### 2. Create a list of size 5 and execute the slicing structure"
   ]
  },
  {
   "cell_type": "code",
   "execution_count": 2,
   "metadata": {},
   "outputs": [
    {
     "data": {
      "text/plain": [
       "[200, 'world']"
      ]
     },
     "execution_count": 2,
     "metadata": {},
     "output_type": "execute_result"
    }
   ],
   "source": [
    "num_list = [100, 200, \"world\", 700 , \"coding\"]\n",
    "num_list[1:3]"
   ]
  },
  {
   "cell_type": "code",
   "execution_count": 3,
   "metadata": {},
   "outputs": [
    {
     "data": {
      "text/plain": [
       "[100, 200, 'world', 700, 'coding']"
      ]
     },
     "execution_count": 3,
     "metadata": {},
     "output_type": "execute_result"
    }
   ],
   "source": [
    "num_list[::1]"
   ]
  },
  {
   "cell_type": "code",
   "execution_count": 4,
   "metadata": {},
   "outputs": [
    {
     "data": {
      "text/plain": [
       "[100, 700]"
      ]
     },
     "execution_count": 4,
     "metadata": {},
     "output_type": "execute_result"
    }
   ],
   "source": [
    "num_list[::3]"
   ]
  },
  {
   "cell_type": "code",
   "execution_count": 5,
   "metadata": {},
   "outputs": [
    {
     "data": {
      "text/plain": [
       "['coding', 700, 'world', 200, 100]"
      ]
     },
     "execution_count": 5,
     "metadata": {},
     "output_type": "execute_result"
    }
   ],
   "source": [
    "num_list[::-1]"
   ]
  },
  {
   "cell_type": "markdown",
   "metadata": {},
   "source": [
    "### 3. Write a program to get the sum and multiply of all the items in a given list."
   ]
  },
  {
   "cell_type": "code",
   "execution_count": 6,
   "metadata": {},
   "outputs": [
    {
     "name": "stdout",
     "output_type": "stream",
     "text": [
      "30\n",
      "3840\n"
     ]
    }
   ],
   "source": [
    "X_list = [2,4,6,8,10]\n",
    "\n",
    "sum_list = 0 \n",
    "prod_list = 1\n",
    "for i in X_list:\n",
    "    sum_list = sum_list + i\n",
    "    prod_list = prod_list * i\n",
    "print(sum_list)\n",
    "print(prod_list)"
   ]
  },
  {
   "cell_type": "markdown",
   "metadata": {},
   "source": [
    "### 4. Find the largest and smallest number from a given list."
   ]
  },
  {
   "cell_type": "code",
   "execution_count": 7,
   "metadata": {},
   "outputs": [
    {
     "name": "stdout",
     "output_type": "stream",
     "text": [
      "2\n",
      "19\n"
     ]
    }
   ],
   "source": [
    "X_list = [2,10,4,19,8,]\n",
    "small = X_list[0]\n",
    "large = X_list[0]\n",
    "\n",
    "for i in X_list:\n",
    "    if i < small:\n",
    "        small = i\n",
    "    if i > large:\n",
    "        large = i\n",
    "print(small)\n",
    "print(large)"
   ]
  },
  {
   "cell_type": "markdown",
   "metadata": {},
   "source": [
    "### 5. Create a new list which contains the specified numbers after removing the even numbers from a predefined list."
   ]
  },
  {
   "cell_type": "code",
   "execution_count": 8,
   "metadata": {},
   "outputs": [
    {
     "name": "stdout",
     "output_type": "stream",
     "text": [
      "[7, 9, 5, 75]\n"
     ]
    }
   ],
   "source": [
    "mylist = [2,4,10,14,7,9,16,4,5,75]\n",
    "new_list = []\n",
    "\n",
    "for i in mylist:\n",
    "    if i % 2 == 0:\n",
    "        continue\n",
    "    else:\n",
    "        new_list.append(i)\n",
    "print(new_list)"
   ]
  },
  {
   "cell_type": "markdown",
   "metadata": {},
   "source": [
    "### 6.\tCreate a list of first and last 5 elements where the values are square of numbers between 1 and30 (both included)."
   ]
  },
  {
   "cell_type": "code",
   "execution_count": 9,
   "metadata": {},
   "outputs": [
    {
     "name": "stdout",
     "output_type": "stream",
     "text": [
      "[1, 4, 9, 16, 25, 625, 676, 729, 784, 841, 900]\n"
     ]
    }
   ],
   "source": [
    "mylist = []\n",
    "\n",
    "for i in range(1,31):\n",
    "    if i <= 5 or i >= 25:\n",
    "        mylist.append(i**2)\n",
    "print(mylist)"
   ]
  },
  {
   "cell_type": "markdown",
   "metadata": {},
   "source": [
    "### 7.\tWrite a program to replace the last element in a list with another list.\n",
    "Sample data: [[1,3,5,7,9,10],[2,4,6,8]]\n"
   ]
  },
  {
   "cell_type": "code",
   "execution_count": 10,
   "metadata": {},
   "outputs": [
    {
     "name": "stdout",
     "output_type": "stream",
     "text": [
      "[1, 3, 4, 5, 7, 9, 10, [2, 4, 6, 8]]\n"
     ]
    }
   ],
   "source": [
    "X = [1,3,4,5,7,9,10,12]\n",
    "\n",
    "Y = [2,4,6,8]\n",
    "\n",
    "X[-1] = Y\n",
    "print(X)\n"
   ]
  },
  {
   "cell_type": "markdown",
   "metadata": {},
   "source": [
    "### 8.\tCreate a new dictionary by concatenating the following two dictionaries:\n",
    "a={1:10,2:20}\n",
    "<br>b={3:30,4:40}\n",
    "<br>Expected Result: {1:10,2:20,3:30,4:40}\n"
   ]
  },
  {
   "cell_type": "code",
   "execution_count": 11,
   "metadata": {},
   "outputs": [
    {
     "name": "stdout",
     "output_type": "stream",
     "text": [
      "{1: 10, 2: 20, 3: 30, 4: 40}\n"
     ]
    }
   ],
   "source": [
    "a={1:10,2:20}\n",
    "b={3:30,4:40}\n",
    "a.update(b)\n",
    "print(a)"
   ]
  },
  {
   "cell_type": "markdown",
   "metadata": {},
   "source": [
    "### 9.\tCreate a dictionary that contains a number (between 1 and n) in the form(x,x*x).\n",
    "Sample data (n=5)\n",
    "<br>Expected Output: {1:1,2:4,3:9,4:16,5:25}\n"
   ]
  },
  {
   "cell_type": "code",
   "execution_count": 12,
   "metadata": {},
   "outputs": [
    {
     "name": "stdout",
     "output_type": "stream",
     "text": [
      "{1: 1, 2: 4, 3: 9, 4: 16, 5: 25}\n"
     ]
    }
   ],
   "source": [
    "my_dict = {}\n",
    "for v in range(1,6):\n",
    "        my_dict[v]=v*v\n",
    "print(my_dict)"
   ]
  },
  {
   "cell_type": "markdown",
   "metadata": {},
   "source": [
    "### 10. \tWrite a program which accepts a sequence of comma-separated numbers from console and generate a list and a tuple which contains every number. Suppose the following input is supplied to the program:\n",
    "34,67,55,33,12,98\n",
    "<br>The output should be:\n",
    "<br>[‘34’,’67’,’55’,’33’,’12’,’98’]\n",
    "<br>(‘34’,’67’,’55’,’33’,’12’,’98’)\n"
   ]
  },
  {
   "cell_type": "code",
   "execution_count": 13,
   "metadata": {},
   "outputs": [
    {
     "name": "stdout",
     "output_type": "stream",
     "text": [
      "Enter the sequence of comma-separated values:34,67,55,33,12,98\n",
      "['34', '67', '55', '33', '12', '98']\n",
      "('34', '67', '55', '33', '12', '98')\n"
     ]
    }
   ],
   "source": [
    "Num = input(\"Enter the sequence of comma-separated values:\")\n",
    "\n",
    "newlist = Num.split(',')\n",
    "newtuple = tuple(newlist)\n",
    "print(newlist)\n",
    "print(newtuple)"
   ]
  },
  {
   "cell_type": "markdown",
   "metadata": {},
   "source": [
    "### 11.\tCreate a list of the 10 elements of four different types of Data Type like int, string, complex and float."
   ]
  },
  {
   "cell_type": "code",
   "execution_count": 11,
   "metadata": {},
   "outputs": [
    {
     "name": "stdout",
     "output_type": "stream",
     "text": [
      "[1, 2, 3, 'Hello', 'Monika', 12.98, 14.6, (5+7j), (9+3j), 5]\n"
     ]
    }
   ],
   "source": [
    "mylist = [1,2,3,\"Hello\",\"Monika\",12.98, 14.6, 5+7j, 9+3j, 5]\n",
    "print(mylist)"
   ]
  },
  {
   "cell_type": "markdown",
   "metadata": {},
   "source": [
    "### 12. \tCreate a list of size 5 and execute the slicing structure "
   ]
  },
  {
   "cell_type": "code",
   "execution_count": 14,
   "metadata": {},
   "outputs": [
    {
     "name": "stdout",
     "output_type": "stream",
     "text": [
      "[200, 'world', 700, 'coding']\n",
      "[100, 200, 'world', 700]\n"
     ]
    }
   ],
   "source": [
    "num_list = [100, 200, \"world\", 700 , \"coding\"]\n",
    "print (num_list[1:5])\n",
    "print (num_list [0:4])"
   ]
  },
  {
   "cell_type": "markdown",
   "metadata": {},
   "source": [
    "### 13. \tCreate a list of given structure and run \n",
    "\tx=[100,200,300,400,500,[1,2,3,4,5,[10,20,30,40,50],6,7,8,9],600,700,800]\n",
    "    \n",
    "<br>●\tAccess list [1, 2, 3, 4]\n",
    "<br>●\tAccess list [600,  700]\n",
    "<br>●\tAccess list [100, 300, 500, 600, 800]\n",
    "<br>●\tAccess list [[800, 700, 600, [1, 2, 3, 4, 5, [10, 20, 30, 40, 50], 6, 7, 8, 9], 500, 400, 300, 200, 100]]\n",
    "<br>●\tAccess list [10]\n",
    "<br>●\tAccess list [ ]\n"
   ]
  },
  {
   "cell_type": "code",
   "execution_count": 28,
   "metadata": {},
   "outputs": [
    {
     "name": "stdout",
     "output_type": "stream",
     "text": [
      "[1, 2, 3, 4]\n",
      "[600, 700]\n",
      "[100, 300, 500, 600, 800]\n",
      "[800, 700, 600, [1, 2, 3, 4, 5, [10, 20, 30, 40, 50], 6, 7, 8, 9], 500, 400, 300, 200, 100]\n",
      "10\n",
      "[]\n"
     ]
    }
   ],
   "source": [
    "x=[100,200,300,400,500,[1,2,3,4,5,[10,20,30,40,50],6,7,8,9],600,700,800]\n",
    "print(x [5][0:4])\n",
    "print(x [6:8])\n",
    "print(x [::2])\n",
    "print(x [::-1])\n",
    "print( x[5][5][0])\n",
    "print(x [5:5])"
   ]
  },
  {
   "cell_type": "markdown",
   "metadata": {},
   "source": [
    "### 14. \tCreate a list of thousand number using range and xrange and see the difference between each other."
   ]
  },
  {
   "cell_type": "code",
   "execution_count": 35,
   "metadata": {},
   "outputs": [
    {
     "name": "stdout",
     "output_type": "stream",
     "text": [
      "[0, 1, 2, 3, 4, 5, 6, 7, 8, 9, 10, 11, 12, 13, 14, 15, 16, 17, 18, 19, 20, 21, 22, 23, 24, 25, 26, 27, 28, 29, 30, 31, 32, 33, 34, 35, 36, 37, 38, 39, 40, 41, 42, 43, 44, 45, 46, 47, 48, 49, 50, 51, 52, 53, 54, 55, 56, 57, 58, 59, 60, 61, 62, 63, 64, 65, 66, 67, 68, 69, 70, 71, 72, 73, 74, 75, 76, 77, 78, 79, 80, 81, 82, 83, 84, 85, 86, 87, 88, 89, 90, 91, 92, 93, 94, 95, 96, 97, 98, 99, 100, 101, 102, 103, 104, 105, 106, 107, 108, 109, 110, 111, 112, 113, 114, 115, 116, 117, 118, 119, 120, 121, 122, 123, 124, 125, 126, 127, 128, 129, 130, 131, 132, 133, 134, 135, 136, 137, 138, 139, 140, 141, 142, 143, 144, 145, 146, 147, 148, 149, 150, 151, 152, 153, 154, 155, 156, 157, 158, 159, 160, 161, 162, 163, 164, 165, 166, 167, 168, 169, 170, 171, 172, 173, 174, 175, 176, 177, 178, 179, 180, 181, 182, 183, 184, 185, 186, 187, 188, 189, 190, 191, 192, 193, 194, 195, 196, 197, 198, 199, 200, 201, 202, 203, 204, 205, 206, 207, 208, 209, 210, 211, 212, 213, 214, 215, 216, 217, 218, 219, 220, 221, 222, 223, 224, 225, 226, 227, 228, 229, 230, 231, 232, 233, 234, 235, 236, 237, 238, 239, 240, 241, 242, 243, 244, 245, 246, 247, 248, 249, 250, 251, 252, 253, 254, 255, 256, 257, 258, 259, 260, 261, 262, 263, 264, 265, 266, 267, 268, 269, 270, 271, 272, 273, 274, 275, 276, 277, 278, 279, 280, 281, 282, 283, 284, 285, 286, 287, 288, 289, 290, 291, 292, 293, 294, 295, 296, 297, 298, 299, 300, 301, 302, 303, 304, 305, 306, 307, 308, 309, 310, 311, 312, 313, 314, 315, 316, 317, 318, 319, 320, 321, 322, 323, 324, 325, 326, 327, 328, 329, 330, 331, 332, 333, 334, 335, 336, 337, 338, 339, 340, 341, 342, 343, 344, 345, 346, 347, 348, 349, 350, 351, 352, 353, 354, 355, 356, 357, 358, 359, 360, 361, 362, 363, 364, 365, 366, 367, 368, 369, 370, 371, 372, 373, 374, 375, 376, 377, 378, 379, 380, 381, 382, 383, 384, 385, 386, 387, 388, 389, 390, 391, 392, 393, 394, 395, 396, 397, 398, 399, 400, 401, 402, 403, 404, 405, 406, 407, 408, 409, 410, 411, 412, 413, 414, 415, 416, 417, 418, 419, 420, 421, 422, 423, 424, 425, 426, 427, 428, 429, 430, 431, 432, 433, 434, 435, 436, 437, 438, 439, 440, 441, 442, 443, 444, 445, 446, 447, 448, 449, 450, 451, 452, 453, 454, 455, 456, 457, 458, 459, 460, 461, 462, 463, 464, 465, 466, 467, 468, 469, 470, 471, 472, 473, 474, 475, 476, 477, 478, 479, 480, 481, 482, 483, 484, 485, 486, 487, 488, 489, 490, 491, 492, 493, 494, 495, 496, 497, 498, 499, 500, 501, 502, 503, 504, 505, 506, 507, 508, 509, 510, 511, 512, 513, 514, 515, 516, 517, 518, 519, 520, 521, 522, 523, 524, 525, 526, 527, 528, 529, 530, 531, 532, 533, 534, 535, 536, 537, 538, 539, 540, 541, 542, 543, 544, 545, 546, 547, 548, 549, 550, 551, 552, 553, 554, 555, 556, 557, 558, 559, 560, 561, 562, 563, 564, 565, 566, 567, 568, 569, 570, 571, 572, 573, 574, 575, 576, 577, 578, 579, 580, 581, 582, 583, 584, 585, 586, 587, 588, 589, 590, 591, 592, 593, 594, 595, 596, 597, 598, 599, 600, 601, 602, 603, 604, 605, 606, 607, 608, 609, 610, 611, 612, 613, 614, 615, 616, 617, 618, 619, 620, 621, 622, 623, 624, 625, 626, 627, 628, 629, 630, 631, 632, 633, 634, 635, 636, 637, 638, 639, 640, 641, 642, 643, 644, 645, 646, 647, 648, 649, 650, 651, 652, 653, 654, 655, 656, 657, 658, 659, 660, 661, 662, 663, 664, 665, 666, 667, 668, 669, 670, 671, 672, 673, 674, 675, 676, 677, 678, 679, 680, 681, 682, 683, 684, 685, 686, 687, 688, 689, 690, 691, 692, 693, 694, 695, 696, 697, 698, 699, 700, 701, 702, 703, 704, 705, 706, 707, 708, 709, 710, 711, 712, 713, 714, 715, 716, 717, 718, 719, 720, 721, 722, 723, 724, 725, 726, 727, 728, 729, 730, 731, 732, 733, 734, 735, 736, 737, 738, 739, 740, 741, 742, 743, 744, 745, 746, 747, 748, 749, 750, 751, 752, 753, 754, 755, 756, 757, 758, 759, 760, 761, 762, 763, 764, 765, 766, 767, 768, 769, 770, 771, 772, 773, 774, 775, 776, 777, 778, 779, 780, 781, 782, 783, 784, 785, 786, 787, 788, 789, 790, 791, 792, 793, 794, 795, 796, 797, 798, 799, 800, 801, 802, 803, 804, 805, 806, 807, 808, 809, 810, 811, 812, 813, 814, 815, 816, 817, 818, 819, 820, 821, 822, 823, 824, 825, 826, 827, 828, 829, 830, 831, 832, 833, 834, 835, 836, 837, 838, 839, 840, 841, 842, 843, 844, 845, 846, 847, 848, 849, 850, 851, 852, 853, 854, 855, 856, 857, 858, 859, 860, 861, 862, 863, 864, 865, 866, 867, 868, 869, 870, 871, 872, 873, 874, 875, 876, 877, 878, 879, 880, 881, 882, 883, 884, 885, 886, 887, 888, 889, 890, 891, 892, 893, 894, 895, 896, 897, 898, 899, 900, 901, 902, 903, 904, 905, 906, 907, 908, 909, 910, 911, 912, 913, 914, 915, 916, 917, 918, 919, 920, 921, 922, 923, 924, 925, 926, 927, 928, 929, 930, 931, 932, 933, 934, 935, 936, 937, 938, 939, 940, 941, 942, 943, 944, 945, 946, 947, 948, 949, 950, 951, 952, 953, 954, 955, 956, 957, 958, 959, 960, 961, 962, 963, 964, 965, 966, 967, 968, 969, 970, 971, 972, 973, 974, 975, 976, 977, 978, 979, 980, 981, 982, 983, 984, 985, 986, 987, 988, 989, 990, 991, 992, 993, 994, 995, 996, 997, 998, 999, 1000]\n"
     ]
    },
    {
     "ename": "NameError",
     "evalue": "name 'xrange' is not defined",
     "output_type": "error",
     "traceback": [
      "\u001b[1;31m---------------------------------------------------------------------------\u001b[0m",
      "\u001b[1;31mNameError\u001b[0m                                 Traceback (most recent call last)",
      "\u001b[1;32m<ipython-input-35-5ec73aed4dff>\u001b[0m in \u001b[0;36m<module>\u001b[1;34m\u001b[0m\n\u001b[0;32m      2\u001b[0m \u001b[0mprint\u001b[0m\u001b[1;33m(\u001b[0m\u001b[0mlist1\u001b[0m\u001b[1;33m)\u001b[0m\u001b[1;33m\u001b[0m\u001b[1;33m\u001b[0m\u001b[0m\n\u001b[0;32m      3\u001b[0m \u001b[1;33m\u001b[0m\u001b[0m\n\u001b[1;32m----> 4\u001b[1;33m \u001b[0mlist2\u001b[0m \u001b[1;33m=\u001b[0m \u001b[0mxrange\u001b[0m\u001b[1;33m(\u001b[0m\u001b[1;36m0\u001b[0m\u001b[1;33m,\u001b[0m \u001b[1;36m1001\u001b[0m\u001b[1;33m)\u001b[0m\u001b[1;33m\u001b[0m\u001b[1;33m\u001b[0m\u001b[0m\n\u001b[0m\u001b[0;32m      5\u001b[0m \u001b[0mprint\u001b[0m\u001b[1;33m(\u001b[0m\u001b[0mlist2\u001b[0m\u001b[1;33m)\u001b[0m\u001b[1;33m\u001b[0m\u001b[1;33m\u001b[0m\u001b[0m\n",
      "\u001b[1;31mNameError\u001b[0m: name 'xrange' is not defined"
     ]
    }
   ],
   "source": [
    "list1 = list(range(0,1001))\n",
    "print(list1)\n",
    "\n",
    "list2 = xrange(0, 1001)\n",
    "print(list2)"
   ]
  },
  {
   "cell_type": "markdown",
   "metadata": {},
   "source": [
    "### 15. \tHow Tuple is beneficial as compare to the list?"
   ]
  },
  {
   "cell_type": "markdown",
   "metadata": {},
   "source": [
    "Tuples are immutable. So whenever we want to use some data but intended not to make any changes over time, use tuple. For instance tuples can be used as keys in dictionaries.\n",
    "\n",
    "Tuple being immutable requires less memory space as compared to list.A variable stores memory location of the object and not the object. Tuple being immutable so only 1 tuple object is created in memory and the memory location is then shared to each variable.\n",
    "\n",
    "A tuple is faster than List."
   ]
  },
  {
   "cell_type": "markdown",
   "metadata": {},
   "source": [
    "### 16. \tWrite a program in Python to iterate through the list of numbers in the range of 1,100 and print the number which is divisible by 3 and a multiple of 2."
   ]
  },
  {
   "cell_type": "code",
   "execution_count": 28,
   "metadata": {},
   "outputs": [
    {
     "name": "stdout",
     "output_type": "stream",
     "text": [
      "[0, 6, 12, 18, 24, 30, 36, 42, 48, 54, 60, 66, 72, 78, 84, 90, 96]\n"
     ]
    }
   ],
   "source": [
    "my_list = []\n",
    "for i in range(0,100):\n",
    "    if i%3 == 0 and i %2 == 0:\n",
    "        my_list.append(i)\n",
    "print(my_list)"
   ]
  },
  {
   "cell_type": "markdown",
   "metadata": {},
   "source": [
    "### 17. \tWrite a program in Python to reverse a string and print only the vowel alphabet if exist in the string with their index."
   ]
  },
  {
   "cell_type": "code",
   "execution_count": 41,
   "metadata": {},
   "outputs": [
    {
     "name": "stdout",
     "output_type": "stream",
     "text": [
      "ddatlusnoC\n",
      "a 2\n",
      "u 5\n",
      "o 8\n"
     ]
    }
   ],
   "source": [
    "mystr = \"Consultadd\"\n",
    "reverse_str = mystr[::-1]\n",
    "print(reverse_str)\n",
    "\n",
    "vowel = ['a','e','i','o','u']\n",
    "\n",
    "for i in range(len(mystr)):\n",
    "    if reverse_str[i] in vowel:\n",
    "        print(reverse_str[i],i)\n"
   ]
  },
  {
   "cell_type": "markdown",
   "metadata": {},
   "source": [
    "### 18. \tWrite a program in Python to iterate through the string “hello my name is abcde” and print the string which has even length of word."
   ]
  },
  {
   "cell_type": "code",
   "execution_count": 44,
   "metadata": {},
   "outputs": [
    {
     "name": "stdout",
     "output_type": "stream",
     "text": [
      "my\n",
      "name\n",
      "is\n"
     ]
    }
   ],
   "source": [
    "mystr = 'hello my name is abcde'\n",
    "new_mystr = mystr.split(\" \")\n",
    "# print(new_mystr)\n",
    "\n",
    "for i in new_mystr:\n",
    "    if len(i)%2 == 0:\n",
    "        print(i)"
   ]
  },
  {
   "cell_type": "markdown",
   "metadata": {},
   "source": [
    "### 19. \tWrite a program in python to print the pair of numbers whose sum is equal to result number that is let's say 8.\n",
    "x=[1,2,3,4,5,6,7,8,9,-1]"
   ]
  },
  {
   "cell_type": "code",
   "execution_count": 59,
   "metadata": {},
   "outputs": [
    {
     "name": "stdout",
     "output_type": "stream",
     "text": [
      "[[3, 5], [2, 6], [1, 7], [9, -1]]\n"
     ]
    }
   ],
   "source": [
    "x = [1,2,3,4,5,6,7,8,9,-1]\n",
    "Result = 8\n",
    "dict1 = {}\n",
    "ans = []\n",
    "for i in x:\n",
    "    if Result-i in dict1:\n",
    "        ans.append([Result-i, i])\n",
    "    else:\n",
    "        dict1[i] = Result-i\n",
    "print(ans)\n",
    "        \n"
   ]
  },
  {
   "cell_type": "markdown",
   "metadata": {},
   "source": [
    "### 20. \tWrite a program in Python to complete the following task:\n",
    "<br>●\tCreate two different list as in even_list and odd_list\n",
    "<br>●\tAsk user to enter the number in the range of 1,50 and make sure if the entered number is even append it to the      even_list and if the entered number is odd append it to the odd list.\n",
    "<br>●\tKeep that in mind you can only add 5 items in each list\n",
    "<br>●\tMake sure once you entered the total 5 element calculate the sum of the list and return the maximum out of the list.\n"
   ]
  },
  {
   "cell_type": "code",
   "execution_count": 6,
   "metadata": {},
   "outputs": [
    {
     "name": "stdout",
     "output_type": "stream",
     "text": [
      "Enter the numbers in range 1-50 :12\n",
      "Enter the numbers in range 1-50 :3\n",
      "Enter the numbers in range 1-50 :44\n",
      "Enter the numbers in range 1-50 :42\n",
      "Enter the numbers in range 1-50 :6\n",
      "Enter the numbers in range 1-50 :29\n",
      "Enter the numbers in range 1-50 :35\n",
      "Enter the numbers in range 1-50 :17\n",
      "Enter the numbers in range 1-50 :19\n",
      "Enter the numbers in range 1-50 :22\n",
      "Even list of number [12, 44, 42, 6, 22]\n",
      "Sum of numbers of even list 126\n",
      "maximum of numbers of even list 44\n",
      "Odd list of number [3, 29, 35, 17, 19]\n",
      "Sum of numbers of odd list 103\n",
      "maximum of numbers of odd list 35\n"
     ]
    }
   ],
   "source": [
    "even_list = []\n",
    "odd_list = []\n",
    "\n",
    "while True:\n",
    "    if len(even_list) >= 5 and len(odd_list) >= 5:\n",
    "        break\n",
    "    num = int(input(\"Enter the numbers in range 1-50 :\"))\n",
    "        \n",
    "    if num % 2==0:\n",
    "        even_list.append(num)\n",
    "    elif num % 2 !=0:\n",
    "        odd_list.append(num)\n",
    "\n",
    "# for sum of numbers in list         \n",
    "        \n",
    "even_sum = 0   \n",
    "odd_sum =0\n",
    "for i in even_list:\n",
    "    even_sum += i\n",
    "\n",
    "    \n",
    "for i in odd_list:\n",
    "    odd_sum += i\n",
    "\n",
    "# for maximum number in the list   \n",
    "    \n",
    "even_max = even_list[0]\n",
    "odd_max = odd_list[0]\n",
    "\n",
    "for i in even_list:\n",
    "    if i > even_max:\n",
    "        even_max = i\n",
    "\n",
    "for i in odd_list:\n",
    "    if i > odd_max:\n",
    "        odd_max = i\n",
    "\n",
    "\n",
    "print('Even list of number',even_list)\n",
    "print(\"Sum of numbers of even list\", even_sum)\n",
    "print(\"maximum of numbers of even list\", even_max)\n",
    "\n",
    "print('Odd list of number',odd_list)\n",
    "print(\"Sum of numbers of odd list\", odd_sum)\n",
    "print(\"maximum of numbers of odd list\", odd_max)"
   ]
  },
  {
   "cell_type": "markdown",
   "metadata": {},
   "source": [
    "### 21. \tWrite a program to find out the occurrence of a specific word from an alphanumeric statement. \n",
    "Example: 12abcbacbaba344ab  \n",
    "<br>Output: a=5 b=5 c=2 make sure you should avoid the numbers in you logic\n"
   ]
  },
  {
   "cell_type": "code",
   "execution_count": 56,
   "metadata": {},
   "outputs": [
    {
     "name": "stdout",
     "output_type": "stream",
     "text": [
      "a = 5\n",
      "b = 5\n",
      "c = 2\n"
     ]
    }
   ],
   "source": [
    "word  = \"12abcbacbaba344ab\"\n",
    "count = 0\n",
    "mylist = []\n",
    "\n",
    "for i in word:\n",
    "    if i.isalpha():\n",
    "        if i not in  mylist:\n",
    "             mylist.append(i)\n",
    "# print(mylist)\n",
    "\n",
    "for i in range(0, len(mylist)):\n",
    "    print( mylist[i], '=', word.count(mylist[i]))\n",
    "    "
   ]
  },
  {
   "cell_type": "markdown",
   "metadata": {},
   "source": [
    "### 22. Generate and print another tuple whose values are even numbers in the given tuple (1,2,3,4,5,6,7,8,9,10)."
   ]
  },
  {
   "cell_type": "code",
   "execution_count": 33,
   "metadata": {},
   "outputs": [
    {
     "name": "stdout",
     "output_type": "stream",
     "text": [
      "(2, 4, 6, 8, 10)\n"
     ]
    }
   ],
   "source": [
    "X = (1,2,3,4,5,6,7,8,9,10)\n",
    "Y = []\n",
    "for i in X:\n",
    "    if i % 2==0:\n",
    "        Y.append(i)\n",
    "    else:\n",
    "        continue \n",
    "Y = tuple(Y)\n",
    "print(Y)"
   ]
  }
 ],
 "metadata": {
  "kernelspec": {
   "display_name": "Python 3",
   "language": "python",
   "name": "python3"
  },
  "language_info": {
   "codemirror_mode": {
    "name": "ipython",
    "version": 3
   },
   "file_extension": ".py",
   "mimetype": "text/x-python",
   "name": "python",
   "nbconvert_exporter": "python",
   "pygments_lexer": "ipython3",
   "version": "3.8.3"
  }
 },
 "nbformat": 4,
 "nbformat_minor": 2
}
