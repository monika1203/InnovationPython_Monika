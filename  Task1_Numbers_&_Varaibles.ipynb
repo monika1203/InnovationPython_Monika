{
 "cells": [
  {
   "cell_type": "markdown",
   "metadata": {},
   "source": [
    "## TASK ONE: NUMBERS AND VARIABLES\n",
    "\n",
    "### 1. Create three variables in a single line and assign different values to them and make sure their data types are invited differently. Like one is int, another one is float and last one is string.\n",
    "a = 1; b = 2.01; c = 'string'\n"
   ]
  },
  {
   "cell_type": "code",
   "execution_count": 2,
   "metadata": {},
   "outputs": [
    {
     "name": "stdout",
     "output_type": "stream",
     "text": [
      "10 20.5 Monika Pawar\n"
     ]
    }
   ],
   "source": [
    "X = 10 ; Y = 20.5; Z = \"Monika Pawar\"\n",
    "\n",
    "# print( X, Y,Z )"
   ]
  },
  {
   "cell_type": "markdown",
   "metadata": {},
   "source": [
    "### 2. \tCreate a variable of value type complex and swap it with another variable whose value is an integer."
   ]
  },
  {
   "cell_type": "code",
   "execution_count": 5,
   "metadata": {},
   "outputs": [
    {
     "name": "stdout",
     "output_type": "stream",
     "text": [
      "(2+7j)\n",
      "10\n",
      "(2+7j)\n"
     ]
    }
   ],
   "source": [
    "Comp_num = 2 + 7j\n",
    "print(Comp_num)\n",
    "\n",
    "Int_num = 10 \n",
    "print (Int_num)\n",
    "\n",
    "Int_num = 2+7j\n",
    "print(Int_num)\n"
   ]
  },
  {
   "cell_type": "markdown",
   "metadata": {},
   "source": [
    "### 3. \tSwap two numbers using third variable as result name and do the same task without using any third variable."
   ]
  },
  {
   "cell_type": "code",
   "execution_count": 16,
   "metadata": {},
   "outputs": [
    {
     "name": "stdout",
     "output_type": "stream",
     "text": [
      "The input values of a and b: 10 20\n",
      "The swaped values of a and b using third variable: 20 10\n",
      "The input values of r and s: 100 200\n",
      "The swaped values of r and s without using third variable: 200 100\n"
     ]
    }
   ],
   "source": [
    "# Swap with thrid variable as result name \n",
    "\n",
    "a = 10 \n",
    "b = 20\n",
    "\n",
    "print(\"The input values of a and b:\", a, b)\n",
    "\n",
    "result = a\n",
    "a = b\n",
    "b  = result \n",
    "\n",
    "print(\"The swaped values of a and b using third variable:\", a, b)\n",
    " \n",
    "# Swap without using any third varible \n",
    "\n",
    "r = 100\n",
    "s = 200\n",
    "\n",
    "print(\"The input values of r and s:\", r, s)\n",
    "\n",
    "r , s = s, r\n",
    "\n",
    "print(\"The swaped values of r and s without using third variable:\", r, s)"
   ]
  },
  {
   "cell_type": "markdown",
   "metadata": {},
   "source": [
    "### 4. \tWrite a program to print the value given by the user by using both Python 2.x and Python 3.x Version."
   ]
  },
  {
   "cell_type": "code",
   "execution_count": 19,
   "metadata": {},
   "outputs": [
    {
     "name": "stdout",
     "output_type": "stream",
     "text": [
      "Enter the value for python 3.x: 7\n"
     ]
    }
   ],
   "source": [
    "# Python 2.x \n",
    "\n",
    "## a = int(raw_input(\"Enter the value\"))\n",
    "\n",
    "# Python 3.x\n",
    "\n",
    "b = input (\"Enter the value for python 3.x: \")"
   ]
  },
  {
   "cell_type": "markdown",
   "metadata": {},
   "source": [
    "### 5. \tWrite a program to complete the task given below:\n",
    "    \n",
    "●\tAsk user to enter any 2 numbers in between 1-10 and add both of them to another variable  call z.\n",
    "\n",
    "●\tUse z for adding 30 into it and print the final result by using variable result."
   ]
  },
  {
   "cell_type": "code",
   "execution_count": 27,
   "metadata": {},
   "outputs": [
    {
     "name": "stdout",
     "output_type": "stream",
     "text": [
      "Enter the first number between 1-10:2\n",
      "Enter the second number between 1-10:5\n",
      "37\n"
     ]
    }
   ],
   "source": [
    "Num1 = int(input(\"Enter the first number between 1-10:\"))\n",
    "Num2 = int(input(\"Enter the second number between 1-10:\"))\n",
    "\n",
    "Z = Num1 + Num2 \n",
    "#print(Z)\n",
    "\n",
    "Z = Z + 30\n",
    "print(Z)\n"
   ]
  },
  {
   "cell_type": "markdown",
   "metadata": {},
   "source": [
    "### 6. \tWrite a program to check the data type of the entered values. HINT: Printed output should say -  The input value data type is : int/float/string/etc\n"
   ]
  },
  {
   "cell_type": "code",
   "execution_count": 30,
   "metadata": {},
   "outputs": [
    {
     "name": "stdout",
     "output_type": "stream",
     "text": [
      " The input value datatype is <class 'float'>\n"
     ]
    }
   ],
   "source": [
    "a = 10.0\n",
    "\n",
    "print(\" The input value datatype is\", type(a))"
   ]
  },
  {
   "cell_type": "markdown",
   "metadata": {},
   "source": [
    "### 7. \tCreate Variable using CamelCase, LadderCase and UPPERCASE. (Refer:   https://capitalizemytitle.com/camel-case/)"
   ]
  },
  {
   "cell_type": "code",
   "execution_count": 35,
   "metadata": {},
   "outputs": [
    {
     "name": "stdout",
     "output_type": "stream",
     "text": [
      "HELLO\n"
     ]
    }
   ],
   "source": [
    "\n",
    "\n",
    "## Uppercase\n",
    "a =\"hello\"\n",
    "print( a.upper())\n",
    "\n",
    "## I am not sure about the CamelCase and LadderCase, how to write it . "
   ]
  },
  {
   "cell_type": "markdown",
   "metadata": {},
   "source": [
    "### 8. \tIf one data type value is assigned to ‘a’ variable and then a different data type value is assigned to ‘a’ again. Will it change the value. If Yes then Why?"
   ]
  },
  {
   "cell_type": "markdown",
   "metadata": {},
   "source": [
    "Yes, the value of variable 'a' changes from one datatype to another datatype because python is a dynamically typed language. It doesn’t know about the type of the variable until the code is run. It stores that value at some memory location and then binds that variable name to that memory container. And makes the contents of the container accessible through that variable name. So the data type does not matter. As it will get to know the type of the value at run-time. "
   ]
  }
 ],
 "metadata": {
  "kernelspec": {
   "display_name": "Python 3",
   "language": "python",
   "name": "python3"
  },
  "language_info": {
   "codemirror_mode": {
    "name": "ipython",
    "version": 3
   },
   "file_extension": ".py",
   "mimetype": "text/x-python",
   "name": "python",
   "nbconvert_exporter": "python",
   "pygments_lexer": "ipython3",
   "version": "3.7.3"
  }
 },
 "nbformat": 4,
 "nbformat_minor": 2
}
